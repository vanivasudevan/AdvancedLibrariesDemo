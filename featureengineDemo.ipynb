{
 "cells": [
  {
   "cell_type": "code",
   "execution_count": 1,
   "id": "432a04ca-e04d-4b0a-96b2-de569e71f4c3",
   "metadata": {},
   "outputs": [],
   "source": [
    "# Importing necessary libraries\n",
    "import pandas as pd  # to read the dataset \n",
    "import seaborn as sns  # to use titanic dataset\n",
    "from sklearn.model_selection import train_test_split  # to use the ML model with train, test data\n",
    "from sklearn.preprocessing import StandardScaler    #encoding\n",
    "from feature_engine.imputation import MeanMedianImputer\n",
    "from feature_engine.encoding import OneHotEncoder\n",
    "from feature_engine.discretisation import EqualFrequencyDiscretiser\n",
    "from feature_engine.outliers import Winsorizer"
   ]
  },
  {
   "cell_type": "code",
   "execution_count": 2,
   "id": "11e31fc1-d9c8-4755-9eeb-9e229a953a8d",
   "metadata": {},
   "outputs": [
    {
     "name": "stdout",
     "output_type": "stream",
     "text": [
      "Dataset loaded:\n",
      "   survived  pclass     sex   age  sibsp  parch     fare embarked  class  \\\n",
      "0         0       3    male  22.0      1      0   7.2500        S  Third   \n",
      "1         1       1  female  38.0      1      0  71.2833        C  First   \n",
      "2         1       3  female  26.0      0      0   7.9250        S  Third   \n",
      "3         1       1  female  35.0      1      0  53.1000        S  First   \n",
      "4         0       3    male  35.0      0      0   8.0500        S  Third   \n",
      "\n",
      "     who  adult_male deck  embark_town alive  alone  \n",
      "0    man        True  NaN  Southampton    no  False  \n",
      "1  woman       False    C    Cherbourg   yes  False  \n",
      "2  woman       False  NaN  Southampton   yes   True  \n",
      "3  woman       False    C  Southampton   yes  False  \n",
      "4    man        True  NaN  Southampton    no   True  \n"
     ]
    }
   ],
   "source": [
    "# Load the Titanic dataset\n",
    "data = sns.load_dataset('titanic')\n",
    "print(\"Dataset loaded:\")\n",
    "print(data.head())"
   ]
  },
  {
   "cell_type": "code",
   "execution_count": 3,
   "id": "083dfd64-ede0-4cfa-95e6-56de7003ff2f",
   "metadata": {},
   "outputs": [
    {
     "name": "stdout",
     "output_type": "stream",
     "text": [
      "\n",
      "Overview of the DataFrame:\n",
      "<class 'pandas.core.frame.DataFrame'>\n",
      "RangeIndex: 891 entries, 0 to 890\n",
      "Data columns (total 15 columns):\n",
      " #   Column       Non-Null Count  Dtype   \n",
      "---  ------       --------------  -----   \n",
      " 0   survived     891 non-null    int64   \n",
      " 1   pclass       891 non-null    int64   \n",
      " 2   sex          891 non-null    object  \n",
      " 3   age          714 non-null    float64 \n",
      " 4   sibsp        891 non-null    int64   \n",
      " 5   parch        891 non-null    int64   \n",
      " 6   fare         891 non-null    float64 \n",
      " 7   embarked     889 non-null    object  \n",
      " 8   class        891 non-null    category\n",
      " 9   who          891 non-null    object  \n",
      " 10  adult_male   891 non-null    bool    \n",
      " 11  deck         203 non-null    category\n",
      " 12  embark_town  889 non-null    object  \n",
      " 13  alive        891 non-null    object  \n",
      " 14  alone        891 non-null    bool    \n",
      "dtypes: bool(2), category(2), float64(2), int64(4), object(5)\n",
      "memory usage: 80.7+ KB\n",
      "None\n"
     ]
    }
   ],
   "source": [
    "# Get an overview of the DataFrame, including non-null values\n",
    "print(\"\\nOverview of the DataFrame:\")\n",
    "print(data.info())"
   ]
  },
  {
   "cell_type": "code",
   "execution_count": 4,
   "id": "7f6c849f-3426-40fc-9039-c4177b39a4e4",
   "metadata": {},
   "outputs": [
    {
     "name": "stdout",
     "output_type": "stream",
     "text": [
      "Rows: 891\n",
      "Cols: 15\n"
     ]
    }
   ],
   "source": [
    "#Number of rows and columns in titanic dataset\n",
    "print(f\"Rows:\",data.shape[0])\n",
    "print(f\"Cols:\",data.shape[1])"
   ]
  },
  {
   "cell_type": "code",
   "execution_count": 5,
   "id": "ccb69103-1bfe-4f11-985d-c40a87f1db40",
   "metadata": {},
   "outputs": [
    {
     "name": "stdout",
     "output_type": "stream",
     "text": [
      "\n",
      "Missing values in each column:\n",
      "survived         0\n",
      "pclass           0\n",
      "sex              0\n",
      "age            177\n",
      "sibsp            0\n",
      "parch            0\n",
      "fare             0\n",
      "embarked         2\n",
      "class            0\n",
      "who              0\n",
      "adult_male       0\n",
      "deck           688\n",
      "embark_town      2\n",
      "alive            0\n",
      "alone            0\n",
      "dtype: int64\n"
     ]
    }
   ],
   "source": [
    "# Check for missing values in each column\n",
    "print(\"\\nMissing values in each column:\")\n",
    "print(data.isnull().sum())"
   ]
  },
  {
   "cell_type": "code",
   "execution_count": 6,
   "id": "2fa349bd-66c1-40c0-a530-1fc7251ebb3e",
   "metadata": {},
   "outputs": [
    {
     "data": {
      "text/html": [
       "<div>\n",
       "<style scoped>\n",
       "    .dataframe tbody tr th:only-of-type {\n",
       "        vertical-align: middle;\n",
       "    }\n",
       "\n",
       "    .dataframe tbody tr th {\n",
       "        vertical-align: top;\n",
       "    }\n",
       "\n",
       "    .dataframe thead th {\n",
       "        text-align: right;\n",
       "    }\n",
       "</style>\n",
       "<table border=\"1\" class=\"dataframe\">\n",
       "  <thead>\n",
       "    <tr style=\"text-align: right;\">\n",
       "      <th></th>\n",
       "      <th>survived</th>\n",
       "      <th>pclass</th>\n",
       "      <th>sex</th>\n",
       "      <th>age</th>\n",
       "      <th>sibsp</th>\n",
       "      <th>parch</th>\n",
       "      <th>fare</th>\n",
       "    </tr>\n",
       "  </thead>\n",
       "  <tbody>\n",
       "    <tr>\n",
       "      <th>0</th>\n",
       "      <td>0</td>\n",
       "      <td>3</td>\n",
       "      <td>male</td>\n",
       "      <td>22.0</td>\n",
       "      <td>1</td>\n",
       "      <td>0</td>\n",
       "      <td>7.2500</td>\n",
       "    </tr>\n",
       "    <tr>\n",
       "      <th>1</th>\n",
       "      <td>1</td>\n",
       "      <td>1</td>\n",
       "      <td>female</td>\n",
       "      <td>38.0</td>\n",
       "      <td>1</td>\n",
       "      <td>0</td>\n",
       "      <td>71.2833</td>\n",
       "    </tr>\n",
       "    <tr>\n",
       "      <th>2</th>\n",
       "      <td>1</td>\n",
       "      <td>3</td>\n",
       "      <td>female</td>\n",
       "      <td>26.0</td>\n",
       "      <td>0</td>\n",
       "      <td>0</td>\n",
       "      <td>7.9250</td>\n",
       "    </tr>\n",
       "    <tr>\n",
       "      <th>3</th>\n",
       "      <td>1</td>\n",
       "      <td>1</td>\n",
       "      <td>female</td>\n",
       "      <td>35.0</td>\n",
       "      <td>1</td>\n",
       "      <td>0</td>\n",
       "      <td>53.1000</td>\n",
       "    </tr>\n",
       "    <tr>\n",
       "      <th>4</th>\n",
       "      <td>0</td>\n",
       "      <td>3</td>\n",
       "      <td>male</td>\n",
       "      <td>35.0</td>\n",
       "      <td>0</td>\n",
       "      <td>0</td>\n",
       "      <td>8.0500</td>\n",
       "    </tr>\n",
       "  </tbody>\n",
       "</table>\n",
       "</div>"
      ],
      "text/plain": [
       "   survived  pclass     sex   age  sibsp  parch     fare\n",
       "0         0       3    male  22.0      1      0   7.2500\n",
       "1         1       1  female  38.0      1      0  71.2833\n",
       "2         1       3  female  26.0      0      0   7.9250\n",
       "3         1       1  female  35.0      1      0  53.1000\n",
       "4         0       3    male  35.0      0      0   8.0500"
      ]
     },
     "execution_count": 6,
     "metadata": {},
     "output_type": "execute_result"
    }
   ],
   "source": [
    "# Drop columns that won't be used for this demonstration\n",
    "data = data.drop(columns=['embarked', 'deck', 'embark_town', 'alive', 'alone', 'adult_male', 'who', 'class'],axis=1)\n",
    "data.head()"
   ]
  },
  {
   "cell_type": "code",
   "execution_count": 7,
   "id": "50e1075c-b1c3-4b30-b657-fdf6ee76d16f",
   "metadata": {},
   "outputs": [],
   "source": [
    "# Split the data into training and testing sets\n",
    "X_train, X_test, y_train, y_test = train_test_split(\n",
    "    data.drop(columns=['survived']), data['survived'], test_size=0.2, random_state=42)"
   ]
  },
  {
   "cell_type": "code",
   "execution_count": 8,
   "id": "febcc431-8c1d-4188-bb50-b36e95df3ef5",
   "metadata": {},
   "outputs": [
    {
     "name": "stdout",
     "output_type": "stream",
     "text": [
      "\n",
      "MeanMedianImputer applied:\n",
      "pclass    0\n",
      "sex       0\n",
      "age       0\n",
      "sibsp     0\n",
      "parch     0\n",
      "fare      0\n",
      "dtype: int64\n",
      "pclass    0\n",
      "sex       0\n",
      "age       0\n",
      "sibsp     0\n",
      "parch     0\n",
      "fare      0\n",
      "dtype: int64\n"
     ]
    }
   ],
   "source": [
    "# Use MeanMedianImputer to fill missing numerical values\n",
    "num_imputer = MeanMedianImputer(imputation_method='median', variables=['age'])\n",
    "X_train = num_imputer.fit_transform(X_train)\n",
    "X_test = num_imputer.transform(X_test)\n",
    "print(\"\\nMeanMedianImputer applied:\")\n",
    "print(X_train.isnull().sum())\n",
    "print(X_test.isnull().sum())"
   ]
  },
  {
   "cell_type": "code",
   "execution_count": 9,
   "id": "330545d4-8724-467e-a355-65e2ffd0173c",
   "metadata": {},
   "outputs": [
    {
     "name": "stdout",
     "output_type": "stream",
     "text": [
      "\n",
      "One-hot encoding applied:\n",
      "     pclass   age  sibsp  parch      fare  sex_male\n",
      "331       1  45.5      0      0   28.5000         1\n",
      "733       2  23.0      0      0   13.0000         1\n",
      "382       3  32.0      0      0    7.9250         1\n",
      "704       3  26.0      1      0    7.8542         1\n",
      "813       3   6.0      4      2   31.2750         0\n",
      "118       1  24.0      0      1  247.5208         1\n",
      "536       1  45.0      0      0   26.5500         1\n",
      "361       2  29.0      1      0   27.7208         1\n",
      "29        3  28.0      0      0    7.8958         1\n",
      "55        1  28.0      0      0   35.5000         1\n",
      "865       2  42.0      0      0   13.0000         0\n",
      "595       3  36.0      1      1   24.1500         1\n",
      "239       2  33.0      0      0   12.2750         1\n",
      "721       3  17.0      1      0    7.0542         1\n",
      "81        3  29.0      0      0    9.5000         1\n",
      "259       2  50.0      0      1   26.0000         0\n",
      "486       1  35.0      1      0   90.0000         0\n",
      "716       1  38.0      0      0  227.5250         0\n",
      "800       2  34.0      0      0   13.0000         1\n",
      "781       1  17.0      1      0   57.0000         0\n"
     ]
    }
   ],
   "source": [
    "# Apply one-hot encoding to categorical variables\n",
    "encoder = OneHotEncoder(variables=['sex'], drop_last=True)\n",
    "X_train = encoder.fit_transform(X_train)\n",
    "X_test = encoder.transform(X_test)\n",
    "print(\"\\nOne-hot encoding applied:\")\n",
    "print(X_train.head(20))"
   ]
  },
  {
   "cell_type": "code",
   "execution_count": 10,
   "id": "5b54a680-0402-4bc0-abd6-3b11af5c08d4",
   "metadata": {},
   "outputs": [
    {
     "name": "stdout",
     "output_type": "stream",
     "text": [
      "\n",
      "Outliers handled:\n",
      "     pclass   age  sibsp  parch     fare  sex_male\n",
      "331       1  45.5      0      0  28.5000         1\n",
      "733       2  23.0      0      0  13.0000         1\n",
      "382       3  32.0      0      0   7.9250         1\n",
      "704       3  26.0      1      0   7.8542         1\n",
      "813       3   6.0      4      2  31.2750         0\n",
      "118       1  24.0      0      1  64.3625         1\n",
      "536       1  45.0      0      0  26.5500         1\n",
      "361       2  29.0      1      0  27.7208         1\n",
      "29        3  28.0      0      0   7.8958         1\n",
      "55        1  28.0      0      0  35.5000         1\n",
      "865       2  42.0      0      0  13.0000         0\n",
      "595       3  36.0      1      1  24.1500         1\n",
      "239       2  33.0      0      0  12.2750         1\n",
      "721       3  17.0      1      0   7.0542         1\n",
      "81        3  29.0      0      0   9.5000         1\n",
      "259       2  50.0      0      1  26.0000         0\n",
      "486       1  35.0      1      0  64.3625         0\n",
      "716       1  38.0      0      0  64.3625         0\n",
      "800       2  34.0      0      0  13.0000         1\n",
      "781       1  17.0      1      0  57.0000         0\n"
     ]
    }
   ],
   "source": [
    "# Apply Winsorizer to handle outliers in 'fare'\n",
    "winsorizer = Winsorizer(capping_method='iqr', tail='both', fold=1.5, variables=['fare'])\n",
    "X_train = winsorizer.fit_transform(X_train)\n",
    "X_test = winsorizer.transform(X_test)\n",
    "print(\"\\nOutliers handled:\")\n",
    "print(X_train.head(20))"
   ]
  },
  {
   "cell_type": "code",
   "execution_count": 11,
   "id": "661872be-0edc-4299-ba87-03054a925ec5",
   "metadata": {},
   "outputs": [
    {
     "name": "stdout",
     "output_type": "stream",
     "text": [
      "\n",
      "Features scaled:\n",
      "     pclass       age     sibsp     parch      fare  sex_male\n",
      "0 -1.614136  1.253641 -0.470722 -0.479342  0.236751  0.724310\n",
      "1 -0.400551 -0.477284 -0.470722 -0.479342 -0.532339  0.724310\n",
      "2  0.813034  0.215086 -0.470722 -0.479342 -0.784153  0.724310\n",
      "3  0.813034 -0.246494  0.379923 -0.479342 -0.787666  0.724310\n",
      "4  0.813034 -1.785093  2.931860  2.048742  0.374443 -1.380624\n"
     ]
    }
   ],
   "source": [
    "# Apply StandardScaler\n",
    "scaler = StandardScaler()\n",
    "X_train = pd.DataFrame(scaler.fit_transform(X_train), columns=X_train.columns)\n",
    "X_test = pd.DataFrame(scaler.transform(X_test), columns=X_test.columns)\n",
    "print(\"\\nFeatures scaled:\")\n",
    "print(X_train.head())"
   ]
  },
  {
   "cell_type": "code",
   "execution_count": 12,
   "id": "43245283-675b-4b83-b77f-4805151c9c22",
   "metadata": {},
   "outputs": [],
   "source": [
    "from sklearn.linear_model import LogisticRegression\n",
    "\n",
    "# Assuming X_train and X_test are already scaled features\n",
    "# Assuming y_train and y_test are the target labels\n",
    "\n",
    "# Initialize and fit the logistic regression model\n",
    "model = LogisticRegression()\n",
    "model.fit(X_train, y_train)\n",
    "\n",
    "# Predict on the test set\n",
    "y_pred = model.predict(X_test)"
   ]
  },
  {
   "cell_type": "code",
   "execution_count": 13,
   "id": "bec51156-7ad7-4c42-ac4e-d4783e3aca95",
   "metadata": {},
   "outputs": [
    {
     "name": "stdout",
     "output_type": "stream",
     "text": [
      "Confusion Matrix:\n",
      "[[90 15]\n",
      " [21 53]]\n",
      "\n",
      "Classification Report:\n",
      "              precision    recall  f1-score   support\n",
      "\n",
      "           0       0.81      0.86      0.83       105\n",
      "           1       0.78      0.72      0.75        74\n",
      "\n",
      "    accuracy                           0.80       179\n",
      "   macro avg       0.80      0.79      0.79       179\n",
      "weighted avg       0.80      0.80      0.80       179\n",
      "\n"
     ]
    }
   ],
   "source": [
    "from sklearn.metrics import confusion_matrix, classification_report\n",
    "# Calculate confusion matrix\n",
    "conf_matrix = confusion_matrix(y_test, y_pred)\n",
    "print(\"Confusion Matrix:\")\n",
    "print(conf_matrix)\n",
    "\n",
    "# Classification report\n",
    "print(\"\\nClassification Report:\")\n",
    "print(classification_report(y_test, y_pred))"
   ]
  }
 ],
 "metadata": {
  "kernelspec": {
   "display_name": "Python 3 (ipykernel)",
   "language": "python",
   "name": "python3"
  },
  "language_info": {
   "codemirror_mode": {
    "name": "ipython",
    "version": 3
   },
   "file_extension": ".py",
   "mimetype": "text/x-python",
   "name": "python",
   "nbconvert_exporter": "python",
   "pygments_lexer": "ipython3",
   "version": "3.10.13"
  }
 },
 "nbformat": 4,
 "nbformat_minor": 5
}
