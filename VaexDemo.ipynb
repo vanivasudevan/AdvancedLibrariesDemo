{
 "cells": [
  {
   "cell_type": "code",
   "execution_count": 1,
   "id": "bb7c5b10",
   "metadata": {},
   "outputs": [
    {
     "name": "stdout",
     "output_type": "stream",
     "text": [
      "#        id    x             y            z            vx          vy           vz          E           L          Lz          FeH\n",
      "0        0     1.2318684     -0.39692867  -0.59805775  301.15527   174.05948    27.427546   -149431.4   407.38898  333.95554   -1.0053853\n",
      "1        23    -0.16370061   3.6542213    -0.25490645  -195.00023  170.47217    142.53023   -124247.95  890.24115  684.6676    -1.708667\n",
      "2        32    -2.120256     3.3260527    1.7078403    -48.63423   171.6473     -2.0794373  -138500.55  372.2411   -202.17618  -1.8336141\n",
      "3        8     4.715589      4.585251     2.2515438    -232.42084  -294.85083   62.85865    -60037.04   1297.6304  -324.6875   -1.4786882\n",
      "4        16    7.217187      11.994717    -1.0645622   -1.6891745  181.32935    -11.333611  -83206.84   1332.799   1328.949    -1.8570484\n",
      "...      ...   ...           ...          ...          ...         ...          ...         ...         ...        ...         ...\n",
      "329,995  21    1.9938701     0.7892761    0.2220599    -216.9299   16.12442     -211.24438  -146457.44  457.72247  203.36758   -1.7451677\n",
      "329,996  25    3.7180912     0.7213376    1.6415337    -185.9216   -117.250824  -105.49866  -126627.11  335.00256  -301.837    -0.9822322\n",
      "329,997  14    0.36885077    13.029609    -3.6339347   -53.677147  -145.15771   76.7091     -84912.26   817.1376   645.8507    -1.7645613\n",
      "329,998  18    -0.112592645  1.4529126    2.1689527    179.30865   205.7971     -68.75873   -133498.47  724.00024  -283.69104  -1.8808953\n",
      "329,999  4     20.79622      -3.3313878   12.188416    42.690002   69.204796    29.542751   -65519.33   1843.0747  1581.4152   -1.1231084\n"
     ]
    }
   ],
   "source": [
    "import vaex\n",
    "import numpy as np\n",
    "# Creating a large DataFrame\n",
    "df = vaex.example()\n",
    "\n",
    "# Display basic information about the DataFrame\n",
    "print(df)\n"
   ]
  },
  {
   "cell_type": "code",
   "execution_count": 2,
   "id": "e1fa99d8-a064-4774-98ce-f43f9513dfb9",
   "metadata": {},
   "outputs": [
    {
     "data": {
      "text/html": [
       "<table>\n",
       "<thead>\n",
       "<tr><th>#                            </th><th style=\"text-align: right;\">  id</th><th style=\"text-align: right;\">         x</th><th style=\"text-align: right;\">        y</th><th style=\"text-align: right;\">         z</th><th style=\"text-align: right;\">        vx</th><th style=\"text-align: right;\">       vy</th><th style=\"text-align: right;\">        vz</th><th style=\"text-align: right;\">        E</th><th style=\"text-align: right;\">       L</th><th style=\"text-align: right;\">      Lz</th><th style=\"text-align: right;\">     FeH</th></tr>\n",
       "</thead>\n",
       "<tbody>\n",
       "<tr><td><i style='opacity: 0.6'>0</i></td><td style=\"text-align: right;\">   0</td><td style=\"text-align: right;\">  1.23187 </td><td style=\"text-align: right;\">-0.396929</td><td style=\"text-align: right;\">-0.598058 </td><td style=\"text-align: right;\"> 301.155  </td><td style=\"text-align: right;\"> 174.059 </td><td style=\"text-align: right;\">  27.4275 </td><td style=\"text-align: right;\">-149431  </td><td style=\"text-align: right;\"> 407.389</td><td style=\"text-align: right;\"> 333.956</td><td style=\"text-align: right;\">-1.00539</td></tr>\n",
       "<tr><td><i style='opacity: 0.6'>1</i></td><td style=\"text-align: right;\">  23</td><td style=\"text-align: right;\"> -0.163701</td><td style=\"text-align: right;\"> 3.65422 </td><td style=\"text-align: right;\">-0.254906 </td><td style=\"text-align: right;\">-195      </td><td style=\"text-align: right;\"> 170.472 </td><td style=\"text-align: right;\"> 142.53   </td><td style=\"text-align: right;\">-124248  </td><td style=\"text-align: right;\"> 890.241</td><td style=\"text-align: right;\"> 684.668</td><td style=\"text-align: right;\">-1.70867</td></tr>\n",
       "<tr><td><i style='opacity: 0.6'>2</i></td><td style=\"text-align: right;\">  32</td><td style=\"text-align: right;\"> -2.12026 </td><td style=\"text-align: right;\"> 3.32605 </td><td style=\"text-align: right;\"> 1.70784  </td><td style=\"text-align: right;\"> -48.6342 </td><td style=\"text-align: right;\"> 171.647 </td><td style=\"text-align: right;\">  -2.07944</td><td style=\"text-align: right;\">-138501  </td><td style=\"text-align: right;\"> 372.241</td><td style=\"text-align: right;\">-202.176</td><td style=\"text-align: right;\">-1.83361</td></tr>\n",
       "<tr><td><i style='opacity: 0.6'>3</i></td><td style=\"text-align: right;\">   8</td><td style=\"text-align: right;\">  4.71559 </td><td style=\"text-align: right;\"> 4.58525 </td><td style=\"text-align: right;\"> 2.25154  </td><td style=\"text-align: right;\">-232.421  </td><td style=\"text-align: right;\">-294.851 </td><td style=\"text-align: right;\">  62.8586 </td><td style=\"text-align: right;\"> -60037  </td><td style=\"text-align: right;\">1297.63 </td><td style=\"text-align: right;\">-324.688</td><td style=\"text-align: right;\">-1.47869</td></tr>\n",
       "<tr><td><i style='opacity: 0.6'>4</i></td><td style=\"text-align: right;\">  16</td><td style=\"text-align: right;\">  7.21719 </td><td style=\"text-align: right;\">11.9947  </td><td style=\"text-align: right;\">-1.06456  </td><td style=\"text-align: right;\">  -1.68917</td><td style=\"text-align: right;\"> 181.329 </td><td style=\"text-align: right;\"> -11.3336 </td><td style=\"text-align: right;\"> -83206.8</td><td style=\"text-align: right;\">1332.8  </td><td style=\"text-align: right;\">1328.95 </td><td style=\"text-align: right;\">-1.85705</td></tr>\n",
       "<tr><td><i style='opacity: 0.6'>5</i></td><td style=\"text-align: right;\">  16</td><td style=\"text-align: right;\"> -7.78437 </td><td style=\"text-align: right;\"> 5.98977 </td><td style=\"text-align: right;\">-0.682695 </td><td style=\"text-align: right;\">  86.7009 </td><td style=\"text-align: right;\">-238.778 </td><td style=\"text-align: right;\">  -2.31309</td><td style=\"text-align: right;\"> -86497.6</td><td style=\"text-align: right;\">1353.25 </td><td style=\"text-align: right;\">1339.42 </td><td style=\"text-align: right;\">-1.91944</td></tr>\n",
       "<tr><td><i style='opacity: 0.6'>6</i></td><td style=\"text-align: right;\">  12</td><td style=\"text-align: right;\">  8.08373 </td><td style=\"text-align: right;\">-3.27348 </td><td style=\"text-align: right;\"> 5.54687  </td><td style=\"text-align: right;\"> -57.4544 </td><td style=\"text-align: right;\"> 120.117 </td><td style=\"text-align: right;\">   5.37438</td><td style=\"text-align: right;\">-101867  </td><td style=\"text-align: right;\">1100.8  </td><td style=\"text-align: right;\"> 782.915</td><td style=\"text-align: right;\">-1.93517</td></tr>\n",
       "<tr><td><i style='opacity: 0.6'>7</i></td><td style=\"text-align: right;\">  26</td><td style=\"text-align: right;\"> -3.55719 </td><td style=\"text-align: right;\"> 5.41363 </td><td style=\"text-align: right;\"> 0.0917156</td><td style=\"text-align: right;\"> -67.0511 </td><td style=\"text-align: right;\">-145.933 </td><td style=\"text-align: right;\">  39.6374 </td><td style=\"text-align: right;\">-127682  </td><td style=\"text-align: right;\"> 921.008</td><td style=\"text-align: right;\"> 882.101</td><td style=\"text-align: right;\">-1.79423</td></tr>\n",
       "<tr><td><i style='opacity: 0.6'>8</i></td><td style=\"text-align: right;\">  25</td><td style=\"text-align: right;\">  3.9848  </td><td style=\"text-align: right;\"> 5.40691 </td><td style=\"text-align: right;\"> 2.57724  </td><td style=\"text-align: right;\"> -38.7449 </td><td style=\"text-align: right;\">-152.407 </td><td style=\"text-align: right;\"> -92.9073 </td><td style=\"text-align: right;\">-113632  </td><td style=\"text-align: right;\"> 493.316</td><td style=\"text-align: right;\">-397.824</td><td style=\"text-align: right;\">-1.18076</td></tr>\n",
       "<tr><td><i style='opacity: 0.6'>9</i></td><td style=\"text-align: right;\">   8</td><td style=\"text-align: right;\">-20.8139  </td><td style=\"text-align: right;\">-3.29468 </td><td style=\"text-align: right;\">13.4866   </td><td style=\"text-align: right;\">  99.4067 </td><td style=\"text-align: right;\">  28.6749</td><td style=\"text-align: right;\">-115.079  </td><td style=\"text-align: right;\"> -55825.3</td><td style=\"text-align: right;\">1088.46 </td><td style=\"text-align: right;\">-269.324</td><td style=\"text-align: right;\">-1.28892</td></tr>\n",
       "</tbody>\n",
       "</table>"
      ],
      "text/plain": [
       "  #    id           x          y           z          vx         vy          vz          E         L        Lz       FeH\n",
       "  0     0    1.23187   -0.396929  -0.598058    301.155     174.059     27.4275   -149431     407.389   333.956  -1.00539\n",
       "  1    23   -0.163701   3.65422   -0.254906   -195         170.472    142.53     -124248     890.241   684.668  -1.70867\n",
       "  2    32   -2.12026    3.32605    1.70784     -48.6342    171.647     -2.07944  -138501     372.241  -202.176  -1.83361\n",
       "  3     8    4.71559    4.58525    2.25154    -232.421    -294.851     62.8586    -60037    1297.63   -324.688  -1.47869\n",
       "  4    16    7.21719   11.9947    -1.06456      -1.68917   181.329    -11.3336    -83206.8  1332.8    1328.95   -1.85705\n",
       "  5    16   -7.78437    5.98977   -0.682695     86.7009   -238.778     -2.31309   -86497.6  1353.25   1339.42   -1.91944\n",
       "  6    12    8.08373   -3.27348    5.54687     -57.4544    120.117      5.37438  -101867    1100.8     782.915  -1.93517\n",
       "  7    26   -3.55719    5.41363    0.0917156   -67.0511   -145.933     39.6374   -127682     921.008   882.101  -1.79423\n",
       "  8    25    3.9848     5.40691    2.57724     -38.7449   -152.407    -92.9073   -113632     493.316  -397.824  -1.18076\n",
       "  9     8  -20.8139    -3.29468   13.4866       99.4067     28.6749  -115.079     -55825.3  1088.46   -269.324  -1.28892"
      ]
     },
     "execution_count": 2,
     "metadata": {},
     "output_type": "execute_result"
    }
   ],
   "source": [
    "# Show the first 10 rows\n",
    "df.head()"
   ]
  },
  {
   "cell_type": "code",
   "execution_count": 3,
   "id": "d025e091-54fd-4411-af26-e01151840abd",
   "metadata": {},
   "outputs": [
    {
     "data": {
      "text/plain": [
       "(330000, 11)"
      ]
     },
     "execution_count": 3,
     "metadata": {},
     "output_type": "execute_result"
    }
   ],
   "source": [
    "#shape of df\n",
    "df.shape"
   ]
  },
  {
   "cell_type": "code",
   "execution_count": 4,
   "id": "9bb5832a-9fdf-4df4-9998-644249673a32",
   "metadata": {},
   "outputs": [],
   "source": [
    "# Number of rows\n",
    "n = 10**7\n",
    "\n",
    "# Generate a large Vaex DataFrame\n",
    "df_large = vaex.from_arrays(\n",
    "    x=np.random.rand(n),\n",
    "    y=np.random.rand(n)\n",
    ")"
   ]
  },
  {
   "cell_type": "code",
   "execution_count": 5,
   "id": "efd792f2-13ee-47dc-ad17-f0ce5546b9f1",
   "metadata": {},
   "outputs": [
    {
     "name": "stdout",
     "output_type": "stream",
     "text": [
      "#          x                    y\n",
      "0          0.4754671675344252   0.26372971132998446\n",
      "1          0.35554253608465325  0.4732725198998411\n",
      "2          0.4513889666141323   0.1936297843755166\n",
      "3          0.8659843021993381   0.12596523732043663\n",
      "4          0.2594126590177255   0.0010213849731897096\n",
      "...        ...                  ...\n",
      "9,999,995  0.1879632269008198   0.4587660131792438\n",
      "9,999,996  0.1265178524836026   0.6082333493555312\n",
      "9,999,997  0.25620211841719165  0.4243357895096339\n",
      "9,999,998  0.3961389657883865   0.01715782473785088\n",
      "9,999,999  0.7828067567864062   0.2962673548541874\n"
     ]
    },
    {
     "data": {
      "text/html": [
       "<table>\n",
       "<thead>\n",
       "<tr><th>#                            </th><th style=\"text-align: right;\">        x</th><th style=\"text-align: right;\">         y</th></tr>\n",
       "</thead>\n",
       "<tbody>\n",
       "<tr><td><i style='opacity: 0.6'>0</i></td><td style=\"text-align: right;\">0.475467 </td><td style=\"text-align: right;\">0.26373   </td></tr>\n",
       "<tr><td><i style='opacity: 0.6'>1</i></td><td style=\"text-align: right;\">0.355543 </td><td style=\"text-align: right;\">0.473273  </td></tr>\n",
       "<tr><td><i style='opacity: 0.6'>2</i></td><td style=\"text-align: right;\">0.451389 </td><td style=\"text-align: right;\">0.19363   </td></tr>\n",
       "<tr><td><i style='opacity: 0.6'>3</i></td><td style=\"text-align: right;\">0.865984 </td><td style=\"text-align: right;\">0.125965  </td></tr>\n",
       "<tr><td><i style='opacity: 0.6'>4</i></td><td style=\"text-align: right;\">0.259413 </td><td style=\"text-align: right;\">0.00102138</td></tr>\n",
       "<tr><td><i style='opacity: 0.6'>5</i></td><td style=\"text-align: right;\">0.0772656</td><td style=\"text-align: right;\">0.783101  </td></tr>\n",
       "<tr><td><i style='opacity: 0.6'>6</i></td><td style=\"text-align: right;\">0.782219 </td><td style=\"text-align: right;\">0.78047   </td></tr>\n",
       "<tr><td><i style='opacity: 0.6'>7</i></td><td style=\"text-align: right;\">0.22407  </td><td style=\"text-align: right;\">0.355695  </td></tr>\n",
       "<tr><td><i style='opacity: 0.6'>8</i></td><td style=\"text-align: right;\">0.0823892</td><td style=\"text-align: right;\">0.298023  </td></tr>\n",
       "<tr><td><i style='opacity: 0.6'>9</i></td><td style=\"text-align: right;\">0.973567 </td><td style=\"text-align: right;\">0.927855  </td></tr>\n",
       "</tbody>\n",
       "</table>"
      ],
      "text/plain": [
       "  #          x           y\n",
       "  0  0.475467   0.26373\n",
       "  1  0.355543   0.473273\n",
       "  2  0.451389   0.19363\n",
       "  3  0.865984   0.125965\n",
       "  4  0.259413   0.00102138\n",
       "  5  0.0772656  0.783101\n",
       "  6  0.782219   0.78047\n",
       "  7  0.22407    0.355695\n",
       "  8  0.0823892  0.298023\n",
       "  9  0.973567   0.927855"
      ]
     },
     "execution_count": 5,
     "metadata": {},
     "output_type": "execute_result"
    }
   ],
   "source": [
    "# Display basic information about the DataFrame\n",
    "print(df_large)\n",
    "\n",
    "# Show the first 10 rows\n",
    "df_large.head()"
   ]
  },
  {
   "cell_type": "code",
   "execution_count": 6,
   "id": "b1981307-1000-49a3-894a-33911f5c5ac0",
   "metadata": {},
   "outputs": [
    {
     "data": {
      "text/plain": [
       "(10000000, 2)"
      ]
     },
     "execution_count": 6,
     "metadata": {},
     "output_type": "execute_result"
    }
   ],
   "source": [
    "#shape of df_large\n",
    "df_large.shape"
   ]
  },
  {
   "cell_type": "code",
   "execution_count": 7,
   "id": "2db51e68-68b9-4ae8-b5ee-a4f1c29cc29f",
   "metadata": {},
   "outputs": [
    {
     "name": "stdout",
     "output_type": "stream",
     "text": [
      "#          x                   y\n",
      "0          0.8659843021993381  0.12596523732043663\n",
      "1          0.7822187787458746  0.7804704016623036\n",
      "2          0.9735668490357312  0.9278550555446947\n",
      "3          0.9818809553119346  0.530167249864546\n",
      "4          0.7397935315556283  0.41559590285942827\n",
      "...        ...                 ...\n",
      "5,001,125  0.8642784362828071  0.40316472534974235\n",
      "5,001,126  0.5657485681526723  0.5000082035271506\n",
      "5,001,127  0.9651976674478504  0.4197138773249711\n",
      "5,001,128  0.5298185714529077  0.10791407921132168\n",
      "5,001,129  0.7828067567864062  0.2962673548541874\n"
     ]
    }
   ],
   "source": [
    "# Filter rows where x is greater than 0.5\n",
    "filtered_df = df_large[df_large.x > 0.5]\n",
    "print(filtered_df)"
   ]
  },
  {
   "cell_type": "code",
   "execution_count": 8,
   "id": "4c3a16cf-86eb-4874-bcbd-93135acdebd5",
   "metadata": {},
   "outputs": [
    {
     "name": "stdout",
     "output_type": "stream",
     "text": [
      "#          x                    y\n",
      "0          0.18060054737036058  0.8399385483135589\n",
      "1          0.6523782889860701   0.47189437868420936\n",
      "2          0.621011930888107    0.1696908281330033\n",
      "3          0.21226154109929574  0.5711325237069245\n",
      "4          0.36945185996151697  0.810297139154226\n",
      "...        ...                  ...\n",
      "9,999,995  0.6386004537719067   0.2658805834656297\n",
      "9,999,996  0.8255482875554809   0.26211351914682957\n",
      "9,999,997  0.39446414757323933  0.8567945272395793\n",
      "9,999,998  0.8076079448348195   0.7223051648093349\n",
      "9,999,999  0.17834000948313555  0.20739097525710104\n"
     ]
    }
   ],
   "source": [
    "# Perform an aggregation to calculate the mean of column y grouped by column x bins\n",
    "agg_df = df_large.groupby(df_large.x, agg={'y': 'mean'})\n",
    "print(agg_df)"
   ]
  },
  {
   "cell_type": "code",
   "execution_count": 9,
   "id": "6ad1be0c-538d-49a5-a46b-9e7bb3ccff87",
   "metadata": {},
   "outputs": [
    {
     "name": "stdout",
     "output_type": "stream",
     "text": [
      "#          x                    y                      z\n",
      "0          0.4754671675344252   0.26372971132998446    0.7391968788644097\n",
      "1          0.35554253608465325  0.4732725198998411     0.8288150559844943\n",
      "2          0.4513889666141323   0.1936297843755166     0.6450187509896489\n",
      "3          0.8659843021993381   0.12596523732043663    0.9919495395197747\n",
      "4          0.2594126590177255   0.0010213849731897096  0.2604340439909152\n",
      "...        ...                  ...                    ...\n",
      "9,999,995  0.1879632269008198   0.4587660131792438     0.6467292400800636\n",
      "9,999,996  0.1265178524836026   0.6082333493555312     0.7347512018391338\n",
      "9,999,997  0.25620211841719165  0.4243357895096339     0.6805379079268256\n",
      "9,999,998  0.3961389657883865   0.01715782473785088    0.41329679052623736\n",
      "9,999,999  0.7828067567864062   0.2962673548541874     1.0790741116405935\n"
     ]
    }
   ],
   "source": [
    "# Create a virtual column z that is the sum of columns x and y\n",
    "df_large['z'] = df_large.x + df_large.y\n",
    "print(df_large)"
   ]
  },
  {
   "cell_type": "code",
   "execution_count": 10,
   "id": "b6afcd00-bc5b-4bed-bac9-46e35fb5abe9",
   "metadata": {},
   "outputs": [
    {
     "name": "stdout",
     "output_type": "stream",
     "text": [
      "[ 999044  999734 1000119 1000903  999070 1000187 1000587 1000457  999502\n",
      " 1000397]\n"
     ]
    }
   ],
   "source": [
    "# Bin column x into 10 bins and calculate the count for each bin\n",
    "binned_df = df_large.count(binby=df_large.x, limits=[0, 1], shape=10)\n",
    "print(binned_df)"
   ]
  },
  {
   "cell_type": "code",
   "execution_count": 11,
   "id": "1a5eb302-7abd-4333-906b-fec109150282",
   "metadata": {},
   "outputs": [],
   "source": [
    "import pandas as pd\n",
    "import time\n",
    "\n",
    "# Create a large dataset with Pandas\n",
    "pandas_df = pd.DataFrame({\n",
    "    'x': np.random.rand(n),\n",
    "    'y': np.random.rand(n)\n",
    "})"
   ]
  },
  {
   "cell_type": "code",
   "execution_count": 12,
   "id": "544820b0-4ed7-4c52-9716-e713bc121361",
   "metadata": {},
   "outputs": [
    {
     "name": "stdout",
     "output_type": "stream",
     "text": [
      "Pandas filtering time: 0.06582498550415039 seconds\n",
      "Vaex filtering time: 0.0017609596252441406 seconds\n"
     ]
    }
   ],
   "source": [
    "# Measure the time taken to filter the dataset with Pandas\n",
    "start_time = time.time()\n",
    "pandas_filtered_df = pandas_df[pandas_df['x'] > 0.5]\n",
    "pandas_time = time.time() - start_time\n",
    "print(f\"Pandas filtering time: {pandas_time} seconds\")\n",
    "\n",
    "# Measure the time taken to filter the dataset with Vaex\n",
    "start_time = time.time()\n",
    "vaex_filtered_df = df_large[df_large['x'] > 0.5]\n",
    "vaex_time = time.time() - start_time\n",
    "print(f\"Vaex filtering time: {vaex_time} seconds\")"
   ]
  },
  {
   "cell_type": "code",
   "execution_count": null,
   "id": "23a2fa07-3b18-4f46-9ab8-d9fddb981330",
   "metadata": {},
   "outputs": [],
   "source": []
  }
 ],
 "metadata": {
  "kernelspec": {
   "display_name": "Python 3 (ipykernel)",
   "language": "python",
   "name": "python3"
  },
  "language_info": {
   "codemirror_mode": {
    "name": "ipython",
    "version": 3
   },
   "file_extension": ".py",
   "mimetype": "text/x-python",
   "name": "python",
   "nbconvert_exporter": "python",
   "pygments_lexer": "ipython3",
   "version": "3.10.13"
  }
 },
 "nbformat": 4,
 "nbformat_minor": 5
}
