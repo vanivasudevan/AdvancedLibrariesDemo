{
 "cells": [
  {
   "cell_type": "code",
   "execution_count": 22,
   "id": "1f63d535-68de-4884-ad16-dd15a89a5227",
   "metadata": {},
   "outputs": [],
   "source": [
    "import vaex\n",
    "import dtale"
   ]
  },
  {
   "cell_type": "code",
   "execution_count": 11,
   "id": "c9aadd7d-b80b-4e22-8bc9-51d89fedb82a",
   "metadata": {},
   "outputs": [
    {
     "name": "stdout",
     "output_type": "stream",
     "text": [
      "number of rows: 2,964,624\n",
      "number of columns: 19\n"
     ]
    }
   ],
   "source": [
    "# Specify the S3 URL for the dataset\n",
    "data_path = '/Users/DrVaniV/NMIT/Data Science FDP 20-May/data/yellow_tripdata_2024-01.parquet'\n",
    "\n",
    "\n",
    "# Open the dataset directly from S3 using Vaex\n",
    "df = vaex.open(data_path)\n",
    "\n",
    "print(f'number of rows: {df.shape[0]:,}')\n",
    "print(f'number of columns: {df.shape[1]}')"
   ]
  },
  {
   "cell_type": "code",
   "execution_count": 12,
   "id": "fd4a9bc1-de64-4385-9470-7e5c6cc247a8",
   "metadata": {},
   "outputs": [
    {
     "name": "stdout",
     "output_type": "stream",
     "text": [
      "\n",
      "Summary statistics:\n",
      "                     VendorID        tpep_pickup_datetime  \\\n",
      "data_type               int32              datetime64[us]   \n",
      "count                 2964624                     2964624   \n",
      "NA                          0                           0   \n",
      "mean       1.7542042431013174  1970-01-07T07:31:49.015887   \n",
      "std                   0.43259        1052774340149.278687   \n",
      "min                         1  2002-12-31T22:59:14.437120   \n",
      "max                         6  2024-02-01T00:00:46.809088   \n",
      "\n",
      "                tpep_dropoff_datetime     passenger_count       trip_distance  \\\n",
      "data_type              datetime64[us]               int64             float64   \n",
      "count                         2964624             2824462             2964624   \n",
      "NA                                  0              140162                   0   \n",
      "mean       1970-01-07T07:47:25.792924  1.3392808966805005  3.6521691789583257   \n",
      "std              1052776185233.299194            0.850282          225.462534   \n",
      "min        2002-12-31T23:05:57.090304                   0                 0.0   \n",
      "max        2024-02-02T13:55:46.238464                   9            312722.3   \n",
      "\n",
      "                  RatecodeID store_and_fwd_flag        PULocationID  \\\n",
      "data_type              int64       large_string               int32   \n",
      "count                2824462            2824462             2964624   \n",
      "NA                    140162             140162                   0   \n",
      "mean       2.069359403666964                 --  166.01788354948215   \n",
      "std                 9.823217                 --           63.623904   \n",
      "min                        1                 --                   1   \n",
      "max                       99                 --                 265   \n",
      "\n",
      "                 DOLocationID        payment_type       fare_amount  \\\n",
      "data_type               int32               int64           float64   \n",
      "count                 2964624             2964624           2964624   \n",
      "NA                          0                   0                 0   \n",
      "mean       165.11671227110082  1.1612707041432573  18.1750619167896   \n",
      "std                 69.315338            0.580868         18.949545   \n",
      "min                         1                   0            -899.0   \n",
      "max                       265                   4            5000.0   \n",
      "\n",
      "                        extra              mta_tax          tip_amount  \\\n",
      "data_type             float64              float64             float64   \n",
      "count                 2964624              2964624             2964624   \n",
      "NA                          0                    0                   0   \n",
      "mean       1.4515984320439963  0.48338231087652256  3.3358700158935553   \n",
      "std                  1.804102              0.11776             3.89655   \n",
      "min                      -7.5                 -0.5               -80.0   \n",
      "max                     14.25                  4.0               428.0   \n",
      "\n",
      "                 tolls_amount improvement_surcharge        total_amount  \\\n",
      "data_type             float64               float64             float64   \n",
      "count                 2964624               2964624             2964624   \n",
      "NA                          0                     0                   0   \n",
      "mean       0.5270212040381402    0.9756318507844484  26.801504770926396   \n",
      "std                  2.128309              0.218364           23.385573   \n",
      "min                     -80.0                  -1.0              -900.0   \n",
      "max                    115.92                   1.0              5000.0   \n",
      "\n",
      "          congestion_surcharge        Airport_fee  \n",
      "data_type              float64            float64  \n",
      "count                  2824462            2824462  \n",
      "NA                      140162             140162  \n",
      "mean        2.2561220508542865  0.141161130863152  \n",
      "std                   0.823275           0.487624  \n",
      "min                       -2.5              -1.75  \n",
      "max                        2.5               1.75  \n"
     ]
    }
   ],
   "source": [
    "# Calculate summary statistics\n",
    "print(\"\\nSummary statistics:\")\n",
    "print(df.describe())"
   ]
  },
  {
   "cell_type": "code",
   "execution_count": 14,
   "id": "73345f41-353e-49c9-8368-b79de1551736",
   "metadata": {},
   "outputs": [
    {
     "name": "stdout",
     "output_type": "stream",
     "text": [
      "(2188739, 19)\n"
     ]
    }
   ],
   "source": [
    "# Filter data\n",
    "filtered_df = df[df.passenger_count== 1]\n",
    "print(filtered_df.shape)"
   ]
  },
  {
   "cell_type": "code",
   "execution_count": 15,
   "id": "a93c2c6e-ee43-4d37-a4a5-06ebf26ce4be",
   "metadata": {},
   "outputs": [
    {
     "data": {
      "text/html": [
       "<table>\n",
       "<thead>\n",
       "<tr><th>#                            </th><th style=\"text-align: right;\">  VendorID</th><th>tpep_pickup_datetime  </th><th>tpep_dropoff_datetime  </th><th style=\"text-align: right;\">  passenger_count</th><th style=\"text-align: right;\">  trip_distance</th><th style=\"text-align: right;\">  RatecodeID</th><th>store_and_fwd_flag  </th><th style=\"text-align: right;\">  PULocationID</th><th style=\"text-align: right;\">  DOLocationID</th><th style=\"text-align: right;\">  payment_type</th><th style=\"text-align: right;\">  fare_amount</th><th style=\"text-align: right;\">  extra</th><th style=\"text-align: right;\">  mta_tax</th><th style=\"text-align: right;\">  tip_amount</th><th style=\"text-align: right;\">  tolls_amount</th><th style=\"text-align: right;\">  improvement_surcharge</th><th style=\"text-align: right;\">  total_amount</th><th style=\"text-align: right;\">  congestion_surcharge</th><th style=\"text-align: right;\">  Airport_fee</th><th style=\"text-align: right;\">  tip_percentage</th></tr>\n",
       "</thead>\n",
       "<tbody>\n",
       "<tr><td><i style='opacity: 0.6'>0</i></td><td style=\"text-align: right;\">         2</td><td>2024-01-01 00:57:55   </td><td>2024-01-01 01:17:43    </td><td style=\"text-align: right;\">                1</td><td style=\"text-align: right;\">           1.72</td><td style=\"text-align: right;\">           1</td><td>N                   </td><td style=\"text-align: right;\">           186</td><td style=\"text-align: right;\">            79</td><td style=\"text-align: right;\">             2</td><td style=\"text-align: right;\">         17.7</td><td style=\"text-align: right;\">   1   </td><td style=\"text-align: right;\">      0.5</td><td style=\"text-align: right;\">        0   </td><td style=\"text-align: right;\">             0</td><td style=\"text-align: right;\">                      1</td><td style=\"text-align: right;\">         22.7 </td><td style=\"text-align: right;\">                   2.5</td><td style=\"text-align: right;\">         0   </td><td style=\"text-align: right;\">         0      </td></tr>\n",
       "<tr><td><i style='opacity: 0.6'>1</i></td><td style=\"text-align: right;\">         1</td><td>2024-01-01 00:03:00   </td><td>2024-01-01 00:09:36    </td><td style=\"text-align: right;\">                1</td><td style=\"text-align: right;\">           1.8 </td><td style=\"text-align: right;\">           1</td><td>N                   </td><td style=\"text-align: right;\">           140</td><td style=\"text-align: right;\">           236</td><td style=\"text-align: right;\">             1</td><td style=\"text-align: right;\">         10  </td><td style=\"text-align: right;\">   3.5 </td><td style=\"text-align: right;\">      0.5</td><td style=\"text-align: right;\">        3.75</td><td style=\"text-align: right;\">             0</td><td style=\"text-align: right;\">                      1</td><td style=\"text-align: right;\">         18.75</td><td style=\"text-align: right;\">                   2.5</td><td style=\"text-align: right;\">         0   </td><td style=\"text-align: right;\">        20      </td></tr>\n",
       "<tr><td><i style='opacity: 0.6'>2</i></td><td style=\"text-align: right;\">         1</td><td>2024-01-01 00:17:06   </td><td>2024-01-01 00:35:01    </td><td style=\"text-align: right;\">                1</td><td style=\"text-align: right;\">           4.7 </td><td style=\"text-align: right;\">           1</td><td>N                   </td><td style=\"text-align: right;\">           236</td><td style=\"text-align: right;\">            79</td><td style=\"text-align: right;\">             1</td><td style=\"text-align: right;\">         23.3</td><td style=\"text-align: right;\">   3.5 </td><td style=\"text-align: right;\">      0.5</td><td style=\"text-align: right;\">        3   </td><td style=\"text-align: right;\">             0</td><td style=\"text-align: right;\">                      1</td><td style=\"text-align: right;\">         31.3 </td><td style=\"text-align: right;\">                   2.5</td><td style=\"text-align: right;\">         0   </td><td style=\"text-align: right;\">         9.58466</td></tr>\n",
       "<tr><td><i style='opacity: 0.6'>3</i></td><td style=\"text-align: right;\">         1</td><td>2024-01-01 00:36:38   </td><td>2024-01-01 00:44:56    </td><td style=\"text-align: right;\">                1</td><td style=\"text-align: right;\">           1.4 </td><td style=\"text-align: right;\">           1</td><td>N                   </td><td style=\"text-align: right;\">            79</td><td style=\"text-align: right;\">           211</td><td style=\"text-align: right;\">             1</td><td style=\"text-align: right;\">         10  </td><td style=\"text-align: right;\">   3.5 </td><td style=\"text-align: right;\">      0.5</td><td style=\"text-align: right;\">        2   </td><td style=\"text-align: right;\">             0</td><td style=\"text-align: right;\">                      1</td><td style=\"text-align: right;\">         17   </td><td style=\"text-align: right;\">                   2.5</td><td style=\"text-align: right;\">         0   </td><td style=\"text-align: right;\">        11.7647 </td></tr>\n",
       "<tr><td><i style='opacity: 0.6'>4</i></td><td style=\"text-align: right;\">         1</td><td>2024-01-01 00:46:51   </td><td>2024-01-01 00:52:57    </td><td style=\"text-align: right;\">                1</td><td style=\"text-align: right;\">           0.8 </td><td style=\"text-align: right;\">           1</td><td>N                   </td><td style=\"text-align: right;\">           211</td><td style=\"text-align: right;\">           148</td><td style=\"text-align: right;\">             1</td><td style=\"text-align: right;\">          7.9</td><td style=\"text-align: right;\">   3.5 </td><td style=\"text-align: right;\">      0.5</td><td style=\"text-align: right;\">        3.2 </td><td style=\"text-align: right;\">             0</td><td style=\"text-align: right;\">                      1</td><td style=\"text-align: right;\">         16.1 </td><td style=\"text-align: right;\">                   2.5</td><td style=\"text-align: right;\">         0   </td><td style=\"text-align: right;\">        19.8758 </td></tr>\n",
       "<tr><td><i style='opacity: 0.6'>5</i></td><td style=\"text-align: right;\">         1</td><td>2024-01-01 00:54:08   </td><td>2024-01-01 01:26:31    </td><td style=\"text-align: right;\">                1</td><td style=\"text-align: right;\">           4.7 </td><td style=\"text-align: right;\">           1</td><td>N                   </td><td style=\"text-align: right;\">           148</td><td style=\"text-align: right;\">           141</td><td style=\"text-align: right;\">             1</td><td style=\"text-align: right;\">         29.6</td><td style=\"text-align: right;\">   3.5 </td><td style=\"text-align: right;\">      0.5</td><td style=\"text-align: right;\">        6.9 </td><td style=\"text-align: right;\">             0</td><td style=\"text-align: right;\">                      1</td><td style=\"text-align: right;\">         41.5 </td><td style=\"text-align: right;\">                   2.5</td><td style=\"text-align: right;\">         0   </td><td style=\"text-align: right;\">        16.6265 </td></tr>\n",
       "<tr><td><i style='opacity: 0.6'>6</i></td><td style=\"text-align: right;\">         2</td><td>2024-01-01 00:26:01   </td><td>2024-01-01 00:54:12    </td><td style=\"text-align: right;\">                1</td><td style=\"text-align: right;\">           5.44</td><td style=\"text-align: right;\">           1</td><td>N                   </td><td style=\"text-align: right;\">           161</td><td style=\"text-align: right;\">           261</td><td style=\"text-align: right;\">             2</td><td style=\"text-align: right;\">         31  </td><td style=\"text-align: right;\">   1   </td><td style=\"text-align: right;\">      0.5</td><td style=\"text-align: right;\">        0   </td><td style=\"text-align: right;\">             0</td><td style=\"text-align: right;\">                      1</td><td style=\"text-align: right;\">         36   </td><td style=\"text-align: right;\">                   2.5</td><td style=\"text-align: right;\">         0   </td><td style=\"text-align: right;\">         0      </td></tr>\n",
       "<tr><td><i style='opacity: 0.6'>7</i></td><td style=\"text-align: right;\">         2</td><td>2024-01-01 00:28:08   </td><td>2024-01-01 00:29:16    </td><td style=\"text-align: right;\">                1</td><td style=\"text-align: right;\">           0.04</td><td style=\"text-align: right;\">           1</td><td>N                   </td><td style=\"text-align: right;\">           113</td><td style=\"text-align: right;\">           113</td><td style=\"text-align: right;\">             2</td><td style=\"text-align: right;\">          3  </td><td style=\"text-align: right;\">   1   </td><td style=\"text-align: right;\">      0.5</td><td style=\"text-align: right;\">        0   </td><td style=\"text-align: right;\">             0</td><td style=\"text-align: right;\">                      1</td><td style=\"text-align: right;\">          8   </td><td style=\"text-align: right;\">                   2.5</td><td style=\"text-align: right;\">         0   </td><td style=\"text-align: right;\">         0      </td></tr>\n",
       "<tr><td><i style='opacity: 0.6'>8</i></td><td style=\"text-align: right;\">         1</td><td>2024-01-01 00:51:53   </td><td>2024-01-01 00:55:43    </td><td style=\"text-align: right;\">                1</td><td style=\"text-align: right;\">           0.8 </td><td style=\"text-align: right;\">           1</td><td>N                   </td><td style=\"text-align: right;\">            90</td><td style=\"text-align: right;\">            68</td><td style=\"text-align: right;\">             2</td><td style=\"text-align: right;\">          6.5</td><td style=\"text-align: right;\">   3.5 </td><td style=\"text-align: right;\">      0.5</td><td style=\"text-align: right;\">        0   </td><td style=\"text-align: right;\">             0</td><td style=\"text-align: right;\">                      1</td><td style=\"text-align: right;\">         11.5 </td><td style=\"text-align: right;\">                   2.5</td><td style=\"text-align: right;\">         0   </td><td style=\"text-align: right;\">         0      </td></tr>\n",
       "<tr><td><i style='opacity: 0.6'>9</i></td><td style=\"text-align: right;\">         1</td><td>2024-01-01 00:50:09   </td><td>2024-01-01 01:03:57    </td><td style=\"text-align: right;\">                1</td><td style=\"text-align: right;\">           5   </td><td style=\"text-align: right;\">           1</td><td>N                   </td><td style=\"text-align: right;\">           132</td><td style=\"text-align: right;\">           216</td><td style=\"text-align: right;\">             2</td><td style=\"text-align: right;\">         21.2</td><td style=\"text-align: right;\">   2.75</td><td style=\"text-align: right;\">      0.5</td><td style=\"text-align: right;\">        0   </td><td style=\"text-align: right;\">             0</td><td style=\"text-align: right;\">                      1</td><td style=\"text-align: right;\">         25.45</td><td style=\"text-align: right;\">                   0  </td><td style=\"text-align: right;\">         1.75</td><td style=\"text-align: right;\">         0      </td></tr>\n",
       "</tbody>\n",
       "</table>"
      ],
      "text/plain": [
       "  #    VendorID  tpep_pickup_datetime    tpep_dropoff_datetime      passenger_count    trip_distance    RatecodeID  store_and_fwd_flag      PULocationID    DOLocationID    payment_type    fare_amount    extra    mta_tax    tip_amount    tolls_amount    improvement_surcharge    total_amount    congestion_surcharge    Airport_fee    tip_percentage\n",
       "  0           2  2024-01-01 00:57:55     2024-01-01 01:17:43                      1             1.72             1  N                                186              79               2           17.7     1           0.5          0                  0                        1           22.7                      2.5           0              0\n",
       "  1           1  2024-01-01 00:03:00     2024-01-01 00:09:36                      1             1.8              1  N                                140             236               1           10       3.5         0.5          3.75               0                        1           18.75                     2.5           0             20\n",
       "  2           1  2024-01-01 00:17:06     2024-01-01 00:35:01                      1             4.7              1  N                                236              79               1           23.3     3.5         0.5          3                  0                        1           31.3                      2.5           0              9.58466\n",
       "  3           1  2024-01-01 00:36:38     2024-01-01 00:44:56                      1             1.4              1  N                                 79             211               1           10       3.5         0.5          2                  0                        1           17                        2.5           0             11.7647\n",
       "  4           1  2024-01-01 00:46:51     2024-01-01 00:52:57                      1             0.8              1  N                                211             148               1            7.9     3.5         0.5          3.2                0                        1           16.1                      2.5           0             19.8758\n",
       "  5           1  2024-01-01 00:54:08     2024-01-01 01:26:31                      1             4.7              1  N                                148             141               1           29.6     3.5         0.5          6.9                0                        1           41.5                      2.5           0             16.6265\n",
       "  6           2  2024-01-01 00:26:01     2024-01-01 00:54:12                      1             5.44             1  N                                161             261               2           31       1           0.5          0                  0                        1           36                        2.5           0              0\n",
       "  7           2  2024-01-01 00:28:08     2024-01-01 00:29:16                      1             0.04             1  N                                113             113               2            3       1           0.5          0                  0                        1            8                        2.5           0              0\n",
       "  8           1  2024-01-01 00:51:53     2024-01-01 00:55:43                      1             0.8              1  N                                 90              68               2            6.5     3.5         0.5          0                  0                        1           11.5                      2.5           0              0\n",
       "  9           1  2024-01-01 00:50:09     2024-01-01 01:03:57                      1             5                1  N                                132             216               2           21.2     2.75        0.5          0                  0                        1           25.45                     0             1.75           0"
      ]
     },
     "execution_count": 15,
     "metadata": {},
     "output_type": "execute_result"
    }
   ],
   "source": [
    "# Calculate new column\n",
    "filtered_df['tip_percentage'] = (filtered_df.tip_amount / filtered_df.total_amount) * 100\n",
    "filtered_df.head()"
   ]
  },
  {
   "cell_type": "code",
   "execution_count": 16,
   "id": "dd5b0889-9619-40fe-ae27-5798233de88f",
   "metadata": {},
   "outputs": [],
   "source": [
    "# Group by and aggregation\n",
    "grouped_df = filtered_df.groupby('payment_type').agg({'fare_amount': 'mean', 'tip_percentage': 'mean'})"
   ]
  },
  {
   "cell_type": "code",
   "execution_count": 18,
   "id": "e5dc7f22-7d16-4c53-bc58-92f5d5502d93",
   "metadata": {},
   "outputs": [
    {
     "name": "stdout",
     "output_type": "stream",
     "text": [
      "\n",
      "Grouped DataFrame:\n",
      "  #    payment_type    fare_amount    tip_percentage\n",
      "  0               1       18.0725        14.7511\n",
      "  1               2       17.0538        -0.00504015\n",
      "  2               3        5.74286       -0.0487351\n",
      "  3               4        1.3434        -0.175153\n"
     ]
    }
   ],
   "source": [
    "# Display the grouped DataFrame\n",
    "print(\"\\nGrouped DataFrame:\")\n",
    "print(grouped_df)"
   ]
  },
  {
   "cell_type": "code",
   "execution_count": null,
   "id": "cef9cbda-3d68-480c-a02f-d5797d390aad",
   "metadata": {},
   "outputs": [],
   "source": []
  }
 ],
 "metadata": {
  "kernelspec": {
   "display_name": "Python 3 (ipykernel)",
   "language": "python",
   "name": "python3"
  },
  "language_info": {
   "codemirror_mode": {
    "name": "ipython",
    "version": 3
   },
   "file_extension": ".py",
   "mimetype": "text/x-python",
   "name": "python",
   "nbconvert_exporter": "python",
   "pygments_lexer": "ipython3",
   "version": "3.10.13"
  }
 },
 "nbformat": 4,
 "nbformat_minor": 5
}
